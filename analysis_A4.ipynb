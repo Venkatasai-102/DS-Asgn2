{
 "cells": [
  {
   "cell_type": "code",
   "execution_count": 74,
   "metadata": {},
   "outputs": [],
   "source": [
    "from lb.helpers import *\n",
    "import requests\n",
    "import time\n",
    "\n",
    "BASE_URL = \"http://localhost:8000\""
   ]
  },
  {
   "cell_type": "markdown",
   "metadata": {},
   "source": [
    "### remove lb,servers running"
   ]
  },
  {
   "cell_type": "code",
   "execution_count": 75,
   "metadata": {},
   "outputs": [],
   "source": [
    "# remove_servers([\"lb\"])\n",
    "# server_list = get_servers(\"serverimg\")\n",
    "# remove_servers(server_list)\n"
   ]
  },
  {
   "cell_type": "code",
   "execution_count": 76,
   "metadata": {},
   "outputs": [
    {
     "name": "stdout",
     "output_type": "stream",
     "text": [
      "{'message': 'Configured Database', 'status': 'success'}\n"
     ]
    }
   ],
   "source": [
    "response = requests.post(f\"{BASE_URL}/init\",json={\n",
    "  \"N\": 3,\n",
    "  \"schema\": {\n",
    "    \"columns\": [\n",
    "      \"Stud_id\",\n",
    "      \"Stud_name\",\n",
    "      \"Stud_marks\"\n",
    "    ],\n",
    "    \"dtypes\": [\n",
    "      \"Number\",\n",
    "      \"String\",\n",
    "      \"Number\"\n",
    "    ]\n",
    "  },\n",
    "  \"shards\": [\n",
    "    {\n",
    "      \"Stud_id_low\": 0,\n",
    "      \"Shard_id\": \"sh1\",\n",
    "      \"Shard_size\": 4096\n",
    "    },\n",
    "    {\n",
    "      \"Stud_id_low\": 4096,\n",
    "      \"Shard_id\": \"sh2\",\n",
    "      \"Shard_size\": 4096\n",
    "    },\n",
    "    {\n",
    "      \"Stud_id_low\": 8192,\n",
    "      \"Shard_id\": \"sh3\",\n",
    "      \"Shard_size\": 4096\n",
    "    }\n",
    "  ],\n",
    "  \"servers\": {\n",
    "    \"Server0\": [\n",
    "      \"sh1\",\n",
    "      \"sh2\"\n",
    "    ],\n",
    "    \"Server1\": [\n",
    "      \"sh2\",\n",
    "      \"sh3\"\n",
    "    ],\n",
    "    \"Server2\": [\n",
    "      \"sh1\",\n",
    "      \"sh3\"\n",
    "    ]\n",
    "  }\n",
    "})\n",
    "\n",
    "print(response.json())"
   ]
  },
  {
   "cell_type": "code",
   "execution_count": 77,
   "metadata": {},
   "outputs": [
    {
     "name": "stdout",
     "output_type": "stream",
     "text": [
      "{'N': 3, 'schema': {'columns': ['Stud_id', 'Stud_name', 'Stud_marks'], 'dtypes': ['Number', 'String', 'String']}, 'shards': [{'Stud_id_low': 0, 'Shard_id': 'sh1', 'Shard_size': 4096}, {'Stud_id_low': 4096, 'Shard_id': 'sh2', 'Shard_size': 4096}, {'Stud_id_low': 8192, 'Shard_id': 'sh3', 'Shard_size': 4096}], 'servers': {'Server0': ['sh1', 'sh2'], 'Server1': ['sh2', 'sh3'], 'Server2': ['sh1', 'sh3']}}\n"
     ]
    }
   ],
   "source": [
    "response = requests.get(f\"{BASE_URL}/status\")\n",
    "\n",
    "print(response.json())"
   ]
  },
  {
   "cell_type": "code",
   "execution_count": 78,
   "metadata": {},
   "outputs": [
    {
     "name": "stdout",
     "output_type": "stream",
     "text": [
      "{'message': '3 Data entries added', 'status': 'success'}\n"
     ]
    }
   ],
   "source": [
    "response = requests.post(f\"{BASE_URL}/write\",json={\n",
    "    \"data\": [{\"Stud_id\":2255,\"Stud_name\":\"GHI\",\"Stud_marks\":27},\n",
    "            {\"Stud_id\":5000,\"Stud_name\":\"JKBFSFS\",\"Stud_marks\":56},\n",
    "            {\"Stud_id\":9000,\"Stud_name\":\"sjk\",\"Stud_marks\":46}\n",
    "            ]\n",
    "})\n",
    "print(response.json())"
   ]
  },
  {
   "cell_type": "code",
   "execution_count": 79,
   "metadata": {},
   "outputs": [
    {
     "name": "stdout",
     "output_type": "stream",
     "text": [
      "{'shards_queried': ['sh1', 'sh2', 'sh3'], 'data': [[2255, 'GHI', '27'], [5000, 'JKBFSFS', '56'], [9000, 'sjk', '46']], 'status': 'success'}\n"
     ]
    }
   ],
   "source": [
    "response = requests.post(f\"{BASE_URL}/read\", json={\n",
    "    \"Stud_id\": {\"low\":1000, \"high\":10000}\n",
    "})\n",
    "print(response.json())"
   ]
  },
  {
   "cell_type": "code",
   "execution_count": 80,
   "metadata": {},
   "outputs": [
    {
     "name": "stdout",
     "output_type": "stream",
     "text": [
      "{'message': 'Data entry for Stud_id:2255 updated', 'status': 'success'}\n",
      "{'shards_queried': ['sh1', 'sh2', 'sh3'], 'data': [[2255, 'GHI', '30'], [5000, 'JKBFSFS', '56'], [9000, 'sjk', '46']], 'status': 'success'}\n"
     ]
    }
   ],
   "source": [
    "response = requests.put(f\"{BASE_URL}/update\",json={\n",
    "    \"Stud_id\":2255, # this should be an integer\n",
    "    \"data\": {\"Stud_id\":2255,\"Stud_name\":\"GHI\",\"Stud_marks\":30}\n",
    "})\n",
    "\n",
    "print(response.json())\n",
    "\n",
    "response = requests.post(f\"{BASE_URL}/read\", json={\n",
    "    \"Stud_id\": {\"low\":1000, \"high\":10000}\n",
    "})\n",
    "print(response.json())"
   ]
  },
  {
   "cell_type": "code",
   "execution_count": 81,
   "metadata": {},
   "outputs": [
    {
     "name": "stdout",
     "output_type": "stream",
     "text": [
      "{'message': 'Data entry for Stud_id:2255 deleted', 'status': 'success'}\n",
      "{'shards_queried': ['sh1'], 'data': [], 'status': 'success'}\n"
     ]
    }
   ],
   "source": [
    "response = requests.delete(f\"{BASE_URL}/del\",json={\n",
    "    \"Stud_id\":2255\n",
    "})\n",
    "print(response.json())\n",
    "\n",
    "response = requests.post(f\"{BASE_URL}/read\", json={\n",
    "    \"Stud_id\": {\"low\":1000, \"high\":4000}\n",
    "})\n",
    "print(response.json())"
   ]
  },
  {
   "cell_type": "code",
   "execution_count": 82,
   "metadata": {},
   "outputs": [
    {
     "name": "stdout",
     "output_type": "stream",
     "text": [
      "{'message': {'N': 2, 'servers': ['Server1']}, 'status': 'successful'}\n",
      "{'N': 2, 'schema': {'columns': ['Stud_id', 'Stud_name', 'Stud_marks'], 'dtypes': ['Number', 'String', 'String']}, 'shards': [{'Stud_id_low': 0, 'Shard_id': 'sh1', 'Shard_size': 4096}, {'Stud_id_low': 4096, 'Shard_id': 'sh2', 'Shard_size': 4096}, {'Stud_id_low': 8192, 'Shard_id': 'sh3', 'Shard_size': 4096}], 'servers': {'Server0': ['sh1', 'sh2'], 'Server2': ['sh1', 'sh3']}}\n"
     ]
    }
   ],
   "source": [
    "response = requests.delete(f\"{BASE_URL}/rm\",json={\n",
    "    \"n\" :1,\n",
    "     \"servers\" : [\"Server1\"]\n",
    "})\n",
    "print(response.json())\n",
    "\n",
    "response = requests.get(f\"{BASE_URL}/status\")\n",
    "print(response.json())\n"
   ]
  },
  {
   "cell_type": "code",
   "execution_count": 83,
   "metadata": {},
   "outputs": [
    {
     "name": "stdout",
     "output_type": "stream",
     "text": [
      "{'N': 4, 'message': 'Added Server4, Server5,', 'status': 'success'}\n",
      "{'N': 4, 'schema': {'columns': ['Stud_id', 'Stud_name', 'Stud_marks'], 'dtypes': ['Number', 'String', 'String']}, 'shards': [{'Stud_id_low': 0, 'Shard_id': 'sh1', 'Shard_size': 4096}, {'Stud_id_low': 4096, 'Shard_id': 'sh2', 'Shard_size': 4096}, {'Stud_id_low': 8192, 'Shard_id': 'sh3', 'Shard_size': 4096}, {'Stud_id_low': 12288, 'Shard_id': 'sh5', 'Shard_size': 4096}], 'servers': {'Server0': ['sh1', 'sh2'], 'Server2': ['sh1', 'sh3'], 'Server4': ['sh3', 'sh5'], 'Server5': ['sh2', 'sh5']}}\n"
     ]
    }
   ],
   "source": [
    "response = requests.post(f\"{BASE_URL}/add\",json={\n",
    "\"n\" : 2,\n",
    "\"new_shards\":[{\"Stud_id_low\":12288, \"Shard_id\": \"sh5\", \"Shard_size\":4096}],\n",
    "\n",
    "\"servers\" : {\"Server4\":[\"sh3\",\"sh5\"], \n",
    "\"Server5\":[\"sh2\",\"sh5\"]}\n",
    "})\n",
    "print(response.json())\n",
    "\n",
    "response = requests.get(f\"{BASE_URL}/status\")\n",
    "print(response.json())\n"
   ]
  },
  {
   "cell_type": "markdown",
   "metadata": {},
   "source": [
    "### Crashing server and checking the server respawn"
   ]
  },
  {
   "cell_type": "code",
   "execution_count": 85,
   "metadata": {},
   "outputs": [
    {
     "name": "stdout",
     "output_type": "stream",
     "text": [
      "{'N': 4, 'schema': {'columns': ['Stud_id', 'Stud_name', 'Stud_marks'], 'dtypes': ['Number', 'String', 'String']}, 'shards': [{'Stud_id_low': 0, 'Shard_id': 'sh1', 'Shard_size': 4096}, {'Stud_id_low': 4096, 'Shard_id': 'sh2', 'Shard_size': 4096}, {'Stud_id_low': 8192, 'Shard_id': 'sh3', 'Shard_size': 4096}, {'Stud_id_low': 12288, 'Shard_id': 'sh5', 'Shard_size': 4096}], 'servers': {'Server2': ['sh1', 'sh3'], 'Server4': ['sh3', 'sh5'], 'Server5': ['sh2', 'sh5'], 'new_Server0': ['sh1', 'sh2']}}\n"
     ]
    }
   ],
   "source": [
    "\n",
    "response = requests.get(f\"{BASE_URL}/status\")\n",
    "print(response.json())"
   ]
  }
 ],
 "metadata": {
  "kernelspec": {
   "display_name": "Python 3",
   "language": "python",
   "name": "python3"
  },
  "language_info": {
   "codemirror_mode": {
    "name": "ipython",
    "version": 3
   },
   "file_extension": ".py",
   "mimetype": "text/x-python",
   "name": "python",
   "nbconvert_exporter": "python",
   "pygments_lexer": "ipython3",
   "version": "3.10.12"
  }
 },
 "nbformat": 4,
 "nbformat_minor": 2
}
