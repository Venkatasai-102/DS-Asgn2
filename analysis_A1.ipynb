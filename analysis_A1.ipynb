{
 "cells": [
  {
   "cell_type": "markdown",
   "metadata": {},
   "source": [
    "## Importing Libraries"
   ]
  },
  {
   "cell_type": "code",
   "execution_count": 1,
   "metadata": {},
   "outputs": [],
   "source": [
    "import json\n",
    "import matplotlib.pyplot as plt\n",
    "\n",
    "import asyncio\n",
    "from time import perf_counter\n",
    "import aiohttp\n",
    "import requests\n",
    "from time import sleep\n",
    "from tqdm import tqdm\n",
    "from random import randint"
   ]
  },
  {
   "cell_type": "markdown",
   "metadata": {},
   "source": [
    "### <font size=\"5\">Initializing the default configuration</font> "
   ]
  },
  {
   "cell_type": "code",
   "execution_count": 2,
   "metadata": {},
   "outputs": [
    {
     "name": "stdout",
     "output_type": "stream",
     "text": [
      "{\"message\":\"Configured Database\",\"status\":\"success\"}\n"
     ]
    }
   ],
   "source": [
    "LOAD_BALANCER_URL = \"http://localhost:8000\"\n",
    "payload = {\n",
    "    \"N\":6,\n",
    "    \"schema\":{\"columns\":[\"Stud_id\",\"Stud_name\",\"Stud_marks\"],\n",
    "    \"dtypes\":[\"Number\",\"String\",\"String\"]},\n",
    "    \"shards\":[  {\"Stud_id_low\":0, \"Shard_id\": \"sh1\", \"Shard_size\":4096},\n",
    "                {\"Stud_id_low\":4096, \"Shard_id\": \"sh2\", \"Shard_size\":4096},\n",
    "                {\"Stud_id_low\":8192, \"Shard_id\": \"sh3\", \"Shard_size\":4096},\n",
    "                {\"Stud_id_low\":12288, \"Shard_id\": \"sh4\", \"Shard_size\":4096}],\n",
    "    \"servers\":{ \"Server0\":[\"sh1\",\"sh2\"],\n",
    "                \"Server1\":[\"sh3\",\"sh4\"],\n",
    "                \"Server3\":[\"sh1\",\"sh3\"],\n",
    "                \"Server4\":[\"sh4\",\"sh2\"],\n",
    "                \"Server5\":[\"sh1\",\"sh4\"],\n",
    "                \"Server6\":[\"sh3\",\"sh2\"]}\n",
    "}\n",
    "\n",
    "response = requests.post(LOAD_BALANCER_URL+\"/init\", json=payload)\n",
    "print(response.text)\n",
    "\n"
   ]
  },
  {
   "cell_type": "code",
   "execution_count": 12,
   "metadata": {},
   "outputs": [
    {
     "name": "stderr",
     "output_type": "stream",
     "text": [
      "100%|██████████| 10000/10000 [13:47<00:00, 12.09it/s]"
     ]
    },
    {
     "name": "stdout",
     "output_type": "stream",
     "text": [
      "Write requests done!\n",
      "Time taken: 827.0510162250002 seconds\n"
     ]
    },
    {
     "name": "stderr",
     "output_type": "stream",
     "text": [
      "\n"
     ]
    }
   ],
   "source": [
    "# Making 10,000 synchronus write requests\n",
    "MIN_STUDENT_ID, MAX_STUDENT_ID = 0, 16384\n",
    "start = perf_counter()\n",
    "for i in tqdm(range(10000)):\n",
    "    student_id = i\n",
    "    student_name = \"student_\"+str(i)\n",
    "    student_marks = i%100\n",
    "    payload = { \"data\": [ {\"Stud_id\": student_id,\"Stud_name\": student_name, \"Stud_marks\": student_marks} ]\n",
    "                }\n",
    "    \n",
    "    response = requests.post(LOAD_BALANCER_URL+\"/write\", json=payload)\n",
    "    if response.status_code != 200:\n",
    "        print(\"Error in write request\")\n",
    "        print(response.text)\n",
    "        break\n",
    "end = perf_counter()\n",
    "\n",
    "print(\"Write requests done!\")\n",
    "print(f\"Time taken: {end-start} seconds\")    "
   ]
  },
  {
   "cell_type": "code",
   "execution_count": 4,
   "metadata": {},
   "outputs": [
    {
     "name": "stdout",
     "output_type": "stream",
     "text": [
      "<+> Sent all 10000 write requests \n",
      "Time taken to complete 10000 requests: 559.99 seconds\n"
     ]
    }
   ],
   "source": [
    "# Making 10,000 asynchronus write requests\n",
    "REQ_COUNT = 10_000\n",
    "MIN_STUDENT_ID, MAX_STUDENT_ID = 0, 16384\n",
    "async def write(session, payload):\n",
    "    async with session.post(LOAD_BALANCER_URL+\"/write\", json=payload) as r:\n",
    "        if r.status != 200:\n",
    "            r.raise_for_status()\n",
    "            print(\"Error in write request\")\n",
    "        res=await r.text()\n",
    "        return res\n",
    "    \n",
    "async def write_all(session, payload_list):\n",
    "    tasks = []\n",
    "    for payload in payload_list:\n",
    "        task = asyncio.create_task(write(session, payload))\n",
    "        tasks.append(task)\n",
    "        \n",
    "    print(f\"<+> Sent all {len(payload_list)} write requests \")\n",
    "    res = await asyncio.gather(*tasks)\n",
    "    return res\n",
    "\n",
    "shard_count = 4\n",
    "block_size = MAX_STUDENT_ID//shard_count   \n",
    "start = perf_counter()\n",
    "timeout = aiohttp.ClientTimeout(total=60*30)\n",
    "async with aiohttp.ClientSession(timeout=timeout) as session:\n",
    "    payload_list = []\n",
    "    i = 0\n",
    "    while i <= MAX_STUDENT_ID:\n",
    "        student_id = i\n",
    "        student_name = \"student_\"+str(i)\n",
    "        student_marks = i%100\n",
    "        payload = { \"data\": [ {\"Stud_id\": student_id,\"Stud_name\": student_name, \"Stud_marks\": student_marks} ]\n",
    "                    }\n",
    "        payload_list.append(payload)\n",
    "        \n",
    "        if len(payload_list) == REQ_COUNT:\n",
    "            break\n",
    "        \n",
    "        i+=1\n",
    "        if i%block_size == REQ_COUNT//shard_count:\n",
    "            i= (1+i//block_size)*block_size\n",
    "        \n",
    "    htmls = await write_all(session, payload_list)\n",
    "end = perf_counter()\n",
    "print(f\"Time taken to complete {REQ_COUNT} requests: {end-start:.2f} seconds\")"
   ]
  },
  {
   "cell_type": "code",
   "execution_count": 5,
   "metadata": {},
   "outputs": [
    {
     "name": "stdout",
     "output_type": "stream",
     "text": [
      "<+> Sent all 10000 read requests \n",
      "Time taken to complete 10000 requests: 75.85 seconds\n"
     ]
    }
   ],
   "source": [
    "# Making 10,000 asynchronus read requests\n",
    "\n",
    "REQ_COUNT = 10000\n",
    "async def read(session, payload):\n",
    "    async with session.post(LOAD_BALANCER_URL+\"/read\", json=payload) as r:\n",
    "        if r.status != 200:\n",
    "            r.raise_for_status()\n",
    "            print(\"Error in read request\")\n",
    "        res=await r.text()\n",
    "        return res\n",
    "    \n",
    "async def read_all(session, payload_list):\n",
    "    tasks = []\n",
    "    for payload in payload_list:\n",
    "        task = asyncio.create_task(read(session, payload))\n",
    "        tasks.append(task)\n",
    "        \n",
    "    print(f\"<+> Sent all {len(payload_list)} read requests \")\n",
    "    res = await asyncio.gather(*tasks)\n",
    "    return res\n",
    "\n",
    "shard_count = 4\n",
    "block_size = MAX_STUDENT_ID//shard_count   \n",
    "start = perf_counter()\n",
    "async with aiohttp.ClientSession() as session:\n",
    "    payload_list = []\n",
    "    \n",
    "    for i in range(REQ_COUNT):\n",
    "        low = randint(MIN_STUDENT_ID, MAX_STUDENT_ID)\n",
    "        high = randint(low, min(MAX_STUDENT_ID, low + randint(1, 100)))\n",
    "        \n",
    "        payload = { \"Stud_id\": {\"low\":low, \"high\":high}   }\n",
    "        payload_list.append(payload)\n",
    "        \n",
    "        if len(payload_list) == REQ_COUNT:\n",
    "            break\n",
    "        \n",
    "        \n",
    "    htmls = await read_all(session, payload_list)\n",
    "end = perf_counter()\n",
    "print(f\"Time taken to complete {REQ_COUNT} requests: {end-start:.2f} seconds\")"
   ]
  },
  {
   "cell_type": "code",
   "execution_count": null,
   "metadata": {},
   "outputs": [],
   "source": []
  }
 ],
 "metadata": {
  "kernelspec": {
   "display_name": "Python 3",
   "language": "python",
   "name": "python3"
  },
  "language_info": {
   "codemirror_mode": {
    "name": "ipython",
    "version": 3
   },
   "file_extension": ".py",
   "mimetype": "text/x-python",
   "name": "python",
   "nbconvert_exporter": "python",
   "pygments_lexer": "ipython3",
   "version": "3.12.2"
  }
 },
 "nbformat": 4,
 "nbformat_minor": 2
}
