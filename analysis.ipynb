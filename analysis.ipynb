{
 "cells": [
  {
   "cell_type": "markdown",
   "metadata": {},
   "source": [
    "## Importing Libraries"
   ]
  },
  {
   "cell_type": "code",
   "execution_count": 27,
   "metadata": {},
   "outputs": [],
   "source": [
    "import json\n",
    "import matplotlib.pyplot as plt\n",
    "\n",
    "import asyncio\n",
    "from time import perf_counter\n",
    "import aiohttp\n",
    "import requests\n",
    "from time import sleep\n",
    "from tqdm import tqdm\n",
    "from random import randint"
   ]
  },
  {
   "cell_type": "markdown",
   "metadata": {},
   "source": [
    "### <font size=\"5\">Initializing the default configuration</font> "
   ]
  },
  {
   "cell_type": "code",
   "execution_count": 25,
   "metadata": {},
   "outputs": [
    {
     "name": "stdout",
     "output_type": "stream",
     "text": [
      "{\"message\":\"Configured Database\",\"status\":\"success\"}\n"
     ]
    }
   ],
   "source": [
    "LOAD_BALANCER_URL = \"http://localhost:8000\"\n",
    "payload = {\n",
    "    \"N\":6,\n",
    "    \"schema\":{\"columns\":[\"Stud_id\",\"Stud_name\",\"Stud_marks\"],\n",
    "    \"dtypes\":[\"Number\",\"String\",\"String\"]},\n",
    "    \"shards\":[  {\"Stud_id_low\":0, \"Shard_id\": \"sh1\", \"Shard_size\":4096},\n",
    "                {\"Stud_id_low\":4096, \"Shard_id\": \"sh2\", \"Shard_size\":4096},\n",
    "                {\"Stud_id_low\":8192, \"Shard_id\": \"sh3\", \"Shard_size\":4096},\n",
    "                {\"Stud_id_low\":12288, \"Shard_id\": \"sh4\", \"Shard_size\":4096}],\n",
    "    \"servers\":{ \"Server0\":[\"sh1\",\"sh2\"],\n",
    "                \"Server1\":[\"sh3\",\"sh4\"],\n",
    "                \"Server3\":[\"sh1\",\"sh3\"],\n",
    "                \"Server4\":[\"sh4\",\"sh2\"],\n",
    "                \"Server5\":[\"sh1\",\"sh4\"],\n",
    "                \"Server6\":[\"sh3\",\"sh2\"]}\n",
    "}\n",
    "\n",
    "response = requests.post(LOAD_BALANCER_URL+\"/init\", json=payload)\n",
    "print(response.text)\n",
    "\n"
   ]
  },
  {
   "cell_type": "markdown",
   "metadata": {},
   "source": [
    "### A-1  <font size=\"5\">Sending 10,000 read and write requests on above configuration</font> \n"
   ]
  },
  {
   "cell_type": "code",
   "execution_count": 12,
   "metadata": {},
   "outputs": [
    {
     "name": "stderr",
     "output_type": "stream",
     "text": [
      "100%|██████████| 10000/10000 [13:47<00:00, 12.09it/s]"
     ]
    },
    {
     "name": "stdout",
     "output_type": "stream",
     "text": [
      "Write requests done!\n",
      "Time taken: 827.0510162250002 seconds\n"
     ]
    },
    {
     "name": "stderr",
     "output_type": "stream",
     "text": [
      "\n"
     ]
    }
   ],
   "source": [
    "# Making 10,000 synchronus write requests\n",
    "MIN_STUDENT_ID, MAX_STUDENT_ID = 0, 16384\n",
    "start = perf_counter()\n",
    "for i in tqdm(range(10000)):\n",
    "    student_id = i\n",
    "    student_name = \"student_\"+str(i)\n",
    "    student_marks = i%100\n",
    "    payload = { \"data\": [ {\"Stud_id\": student_id,\"Stud_name\": student_name, \"Stud_marks\": student_marks} ]\n",
    "                }\n",
    "    \n",
    "    response = requests.post(LOAD_BALANCER_URL+\"/write\", json=payload)\n",
    "    if response.status_code != 200:\n",
    "        print(\"Error in write request\")\n",
    "        print(response.text)\n",
    "        break\n",
    "end = perf_counter()\n",
    "\n",
    "print(\"Write requests done!\")\n",
    "print(f\"Time taken: {end-start} seconds\")    "
   ]
  },
  {
   "cell_type": "code",
   "execution_count": 26,
   "metadata": {},
   "outputs": [
    {
     "name": "stdout",
     "output_type": "stream",
     "text": [
      "<+> Sent all 3000 write requests \n",
      "Time taken to complete 3000 requests: 107.83 seconds\n"
     ]
    }
   ],
   "source": [
    "REQ_COUNT = 3000\n",
    "# Making 10,000 asynchronus write requests\n",
    "async def write(session, payload):\n",
    "    async with session.post(LOAD_BALANCER_URL+\"/write\", json=payload) as r:\n",
    "        if r.status != 200:\n",
    "            r.raise_for_status()\n",
    "            print(\"Error in write request\")\n",
    "        res=await r.text()\n",
    "        return res\n",
    "    \n",
    "async def write_all(session, payload_list):\n",
    "    tasks = []\n",
    "    for payload in payload_list:\n",
    "        task = asyncio.create_task(write(session, payload))\n",
    "        tasks.append(task)\n",
    "        \n",
    "    print(f\"<+> Sent all {len(payload_list)} write requests \")\n",
    "    res = await asyncio.gather(*tasks)\n",
    "    return res\n",
    "\n",
    "shard_count = 4\n",
    "block_size = MAX_STUDENT_ID//shard_count   \n",
    "start = perf_counter()\n",
    "async with aiohttp.ClientSession() as session:\n",
    "    payload_list = []\n",
    "    i = 0\n",
    "    while i <= MAX_STUDENT_ID:\n",
    "        student_id = i\n",
    "        student_name = \"student_\"+str(i)\n",
    "        student_marks = i%100\n",
    "        payload = { \"data\": [ {\"Stud_id\": student_id,\"Stud_name\": student_name, \"Stud_marks\": student_marks} ]\n",
    "                    }\n",
    "        payload_list.append(payload)\n",
    "        \n",
    "        if len(payload_list) == REQ_COUNT:\n",
    "            break\n",
    "        \n",
    "        i+=1\n",
    "        if i%block_size == REQ_COUNT//shard_count:\n",
    "            i= (1+i//block_size)*block_size\n",
    "        \n",
    "    htmls = await write_all(session, payload_list)\n",
    "end = perf_counter()\n",
    "print(f\"Time taken to complete {REQ_COUNT} requests: {end-start:.2f} seconds\")"
   ]
  },
  {
   "cell_type": "code",
   "execution_count": 31,
   "metadata": {},
   "outputs": [
    {
     "name": "stdout",
     "output_type": "stream",
     "text": [
      "<+> Sent all 3000 read requests \n",
      "Time taken to complete 3000 requests: 75.62 seconds\n"
     ]
    }
   ],
   "source": [
    "# Making 10,000 asynchronus read requests\n",
    "\n",
    "REQ_COUNT = 3000\n",
    "async def read(session, payload):\n",
    "    async with session.post(LOAD_BALANCER_URL+\"/read\", json=payload) as r:\n",
    "        if r.status != 200:\n",
    "            r.raise_for_status()\n",
    "            print(\"Error in read request\")\n",
    "        res=await r.text()\n",
    "        return res\n",
    "    \n",
    "async def read_all(session, payload_list):\n",
    "    tasks = []\n",
    "    for payload in payload_list:\n",
    "        task = asyncio.create_task(read(session, payload))\n",
    "        tasks.append(task)\n",
    "        \n",
    "    print(f\"<+> Sent all {len(payload_list)} read requests \")\n",
    "    res = await asyncio.gather(*tasks)\n",
    "    return res\n",
    "\n",
    "shard_count = 4\n",
    "block_size = MAX_STUDENT_ID//shard_count   \n",
    "start = perf_counter()\n",
    "async with aiohttp.ClientSession() as session:\n",
    "    payload_list = []\n",
    "    i = 0\n",
    "    while i <= MAX_STUDENT_ID:\n",
    "        student_id = i\n",
    "        student_name = \"student_\"+str(i)\n",
    "        student_marks = i%100\n",
    "        \n",
    "        low = randint(MIN_STUDENT_ID, MAX_STUDENT_ID)\n",
    "        high = randint(low, min(MAX_STUDENT_ID, low + randint(1, 100)))\n",
    "        \n",
    "        payload = { \"Stud_id\": {\"low\":0, \"high\":14000}   }\n",
    "        payload_list.append(payload)\n",
    "        \n",
    "        if len(payload_list) == REQ_COUNT:\n",
    "            break\n",
    "        \n",
    "        i+=1\n",
    "        if i%block_size == REQ_COUNT//shard_count:\n",
    "            i= (1+i//block_size)*block_size\n",
    "        \n",
    "    htmls = await read_all(session, payload_list)\n",
    "end = perf_counter()\n",
    "print(f\"Time taken to complete {REQ_COUNT} requests: {end-start:.2f} seconds\")"
   ]
  },
  {
   "cell_type": "code",
   "execution_count": null,
   "metadata": {},
   "outputs": [],
   "source": []
  },
  {
   "cell_type": "code",
   "execution_count": 18,
   "metadata": {},
   "outputs": [
    {
     "data": {
      "text/plain": [
       "'{\"message\":{\"N\":3,\"replicas\":[\"serv_1\",\"serv_2\",\"serv_3\"]},\"status\":\"successful\"}'"
      ]
     },
     "execution_count": 18,
     "metadata": {},
     "output_type": "execute_result"
    }
   ],
   "source": [
    "## Make sure that the load balancer is running and no servers have been added yet (Servers will be added from here)\n",
    "\n",
    "# Creating 3 servers for testing\n",
    "\n",
    "\n",
    "REQUEST_COUNT = 10000\n",
    "\n",
    "serv_names = [\"serv_1\", \"serv_2\", \"serv_3\"]\n",
    "\n",
    "json_data = {\n",
    "    \"n\": 3,\n",
    "    \"hostnames\": serv_names\n",
    "}\n",
    "\n",
    "response = requests.post(LOAD_BALANCER_URL+\"/add\", json=json_data)\n",
    "response.text"
   ]
  },
  {
   "cell_type": "code",
   "execution_count": 19,
   "metadata": {},
   "outputs": [],
   "source": [
    "\n",
    "async def fetch(session):\n",
    "    async with session.get(LOAD_BALANCER_URL+\"/home\") as r:\n",
    "        if r.status != 200:\n",
    "            r.raise_for_status()\n",
    "        res=await r.text()\n",
    "        return res\n",
    "    \n",
    "async def fetch_all(session, req_count):\n",
    "    tasks = []\n",
    "    for i in range(req_count):\n",
    "        task = asyncio.create_task(fetch(session))\n",
    "        tasks.append(task)\n",
    "    print(f\"<+> Sent all {req_count} requests \")\n",
    "    res = await asyncio.gather(*tasks)\n",
    "    return res"
   ]
  },
  {
   "cell_type": "code",
   "execution_count": 20,
   "metadata": {},
   "outputs": [
    {
     "name": "stdout",
     "output_type": "stream",
     "text": [
      "<+> Sent all 10000 requests \n",
      "Time taken to complete 10000 requests: 46.68 seconds\n"
     ]
    }
   ],
   "source": [
    "start = perf_counter()\n",
    "async with aiohttp.ClientSession() as session:\n",
    "    htmls = await fetch_all(session,    REQUEST_COUNT)\n",
    "end = perf_counter()\n",
    "print(f\"Time taken to complete {REQUEST_COUNT} requests: {end-start:.2f} seconds\")"
   ]
  },
  {
   "cell_type": "code",
   "execution_count": 21,
   "metadata": {},
   "outputs": [],
   "source": [
    "# Count occurrences of each server\n",
    "data = [json.loads(html) for html in htmls]\n",
    "server_counts = dict(zip(serv_names, [0]*len(serv_names)))\n",
    "for entry in data:\n",
    "    server_name = entry[\"message\"].split(\":\")[1]\n",
    "    if server_name in server_counts:\n",
    "        server_counts[server_name] += 1\n",
    "    else:\n",
    "        server_counts[server_name] = 1\n"
   ]
  },
  {
   "cell_type": "code",
   "execution_count": 22,
   "metadata": {},
   "outputs": [
    {
     "data": {
      "image/png": "[encoded data removed]",
      "text/plain": [
       "<Figure size 640x480 with 1 Axes>"
      ]
     },
     "metadata": {},
     "output_type": "display_data"
    }
   ],
   "source": [
    "# Plot the bar graph\n",
    "servers = list(server_counts.keys())\n",
    "counts = list(server_counts.values())\n",
    "\n",
    "plt.bar(servers, counts, color='blue')\n",
    "plt.xlabel('Server Name')\n",
    "plt.ylabel('Number of Requests Handled')\n",
    "plt.title('Number of Requests Handled by Each Server')\n",
    "plt.show()\n"
   ]
  },
  {
   "cell_type": "code",
   "execution_count": 17,
   "metadata": {},
   "outputs": [
    {
     "data": {
      "text/plain": [
       "'{\"message\":{\"N\":0,\"replicas\":[]},\"status\":\"successful\"}'"
      ]
     },
     "execution_count": 17,
     "metadata": {},
     "output_type": "execute_result"
    }
   ],
   "source": [
    "# Remove the Added Servers\n",
    "response = requests.delete(LOAD_BALANCER_URL+\"/rm\", json=json_data)\n",
    "response.text"
   ]
  },
  {
   "cell_type": "markdown",
   "metadata": {},
   "source": [
    "### A-2  <font size=\"5\"> Increment N from 2 to 6 and launch 10000 requests on each such increment</font> "
   ]
  },
  {
   "cell_type": "code",
   "execution_count": 18,
   "metadata": {},
   "outputs": [],
   "source": [
    "def get_server_loads(htmls, server_list):\n",
    "    data = [json.loads(html) for html in htmls]\n",
    "    server_load = dict(zip(server_list, [0]*len(server_list)))\n",
    "        \n",
    "    for entry in data:\n",
    "        server_name = entry[\"message\"].split(\":\")[1]\n",
    "        server_load[server_name] += 1\n",
    "\n",
    "    return server_load\n",
    "\n"
   ]
  },
  {
   "cell_type": "code",
   "execution_count": 26,
   "metadata": {},
   "outputs": [
    {
     "name": "stdout",
     "output_type": "stream",
     "text": [
      "{\"message\":{\"N\":1,\"replicas\":[\"serv_1\"]},\"status\":\"successful\"}\n",
      "{\"message\":{\"N\":2,\"replicas\":[\"serv_1\",\"serv_2\"]},\"status\":\"successful\"}\n",
      "#REP:  {\"message\":{\"N\":2,\"replicas\":[\"serv_1\",\"serv_2\"]},\"status\":\"successful\"}\n",
      "<+> Sent all 10000 requests \n",
      "Time taken to complete 10000 requests with 2 servers: 16.98 seconds\n",
      "{\"message\":{\"N\":3,\"replicas\":[\"serv_1\",\"serv_2\",\"serv_3\"]},\"status\":\"successful\"}\n",
      "#REP:  {\"message\":{\"N\":3,\"replicas\":[\"serv_1\",\"serv_2\",\"serv_3\"]},\"status\":\"successful\"}\n",
      "<+> Sent all 10000 requests \n",
      "Time taken to complete 10000 requests with 3 servers: 17.25 seconds\n",
      "{\"message\":{\"N\":4,\"replicas\":[\"serv_1\",\"serv_2\",\"serv_3\",\"serv_4\"]},\"status\":\"successful\"}\n",
      "#REP:  {\"message\":{\"N\":4,\"replicas\":[\"serv_1\",\"serv_2\",\"serv_3\",\"serv_4\"]},\"status\":\"successful\"}\n",
      "<+> Sent all 10000 requests \n",
      "Time taken to complete 10000 requests with 4 servers: 17.60 seconds\n",
      "{\"message\":{\"N\":5,\"replicas\":[\"serv_1\",\"serv_2\",\"serv_3\",\"serv_4\",\"serv_5\"]},\"status\":\"successful\"}\n",
      "#REP:  {\"message\":{\"N\":5,\"replicas\":[\"serv_1\",\"serv_2\",\"serv_3\",\"serv_4\",\"serv_5\"]},\"status\":\"successful\"}\n",
      "<+> Sent all 10000 requests \n",
      "Time taken to complete 10000 requests with 5 servers: 17.43 seconds\n",
      "{\"message\":{\"N\":6,\"replicas\":[\"serv_1\",\"serv_2\",\"serv_3\",\"serv_4\",\"serv_5\",\"serv_6\"]},\"status\":\"successful\"}\n",
      "#REP:  {\"message\":{\"N\":6,\"replicas\":[\"serv_1\",\"serv_2\",\"serv_3\",\"serv_4\",\"serv_5\",\"serv_6\"]},\"status\":\"successful\"}\n",
      "<+> Sent all 10000 requests \n",
      "Time taken to complete 10000 requests with 6 servers: 17.78 seconds\n"
     ]
    },
    {
     "data": {
      "image/png": "[encoded data removed]",
      "text/plain": [
       "<Figure size 640x480 with 1 Axes>"
      ]
     },
     "metadata": {},
     "output_type": "display_data"
    },
    {
     "name": "stdout",
     "output_type": "stream",
     "text": [
      "{\"message\":{\"N\":0,\"replicas\":[]},\"status\":\"successful\"}\n"
     ]
    }
   ],
   "source": [
    "server_names = []\n",
    "max_min_load_diff = []\n",
    "for server_count in range(2, 7):\n",
    "    \n",
    "    while server_count > len(server_names):\n",
    "        new_server_name = \"serv_\"+str(len(server_names)+1)\n",
    "        response = requests.post(LOAD_BALANCER_URL+\"/add\", json={\"n\":1, \"hostnames\":[new_server_name]})\n",
    "        print(response.text)\n",
    "        if response.status_code == 200:\n",
    "            server_names.append(\"serv_\"+str(len(server_names)+1))\n",
    "    sleep(1)\n",
    "    response = requests.get(LOAD_BALANCER_URL+\"/rep\")\n",
    "    print(\"#REP: \", response.text)\n",
    "        \n",
    "    \n",
    "    # REQUEST_COUNT = 100\n",
    "    start = perf_counter()\n",
    "    async with aiohttp.ClientSession() as session:\n",
    "        htmls = await fetch_all(session, REQUEST_COUNT)\n",
    "    end = perf_counter()\n",
    "    print(f\"Time taken to complete {REQUEST_COUNT} requests with {len(server_names)} servers: {end-start:.2f} seconds\")\n",
    "    \n",
    "    server_load = get_server_loads(htmls, server_names)\n",
    "    \n",
    "    # print(server_names) \n",
    "    # print(server_load)\n",
    "    # print(server_load.values())\n",
    "    \n",
    "    max_min_load_diff.append(max(server_load.values()) - min(server_load.values()))\n",
    "    plt.plot(server_names, server_load.values(), label=f\"N={len(server_names)}\")\n",
    "   \n",
    "plt.xlabel('Server Name')\n",
    "plt.ylabel('Number of Requests Handled')\n",
    "plt.title('Number of Requests Handled by Each Server')\n",
    "plt.legend()\n",
    "plt.show() \n",
    "delete_response = requests.delete(LOAD_BALANCER_URL+\"/rm\", json={\"n\":len(server_names), \"hostnames\":server_names})\n",
    "print(delete_response.text)"
   ]
  },
  {
   "cell_type": "code",
   "execution_count": 27,
   "metadata": {},
   "outputs": [
    {
     "data": {
      "image/png": "[encoded data removed]",
      "text/plain": [
       "<Figure size 640x480 with 1 Axes>"
      ]
     },
     "metadata": {},
     "output_type": "display_data"
    }
   ],
   "source": [
    "# Plot the max-min load difference line graph\n",
    "plt.plot(range(2,7), max_min_load_diff)\n",
    "plt.xlabel('Number of Servers')\n",
    "plt.ylabel('Max-Min Load Difference')\n",
    "plt.show()"
   ]
  },
  {
   "cell_type": "code",
   "execution_count": null,
   "metadata": {},
   "outputs": [],
   "source": []
  },
  {
   "cell_type": "markdown",
   "metadata": {},
   "source": [
    "### A-3  <font size=\"5\">Test all endpoints</font> "
   ]
  },
  {
   "cell_type": "code",
   "execution_count": 119,
   "metadata": {},
   "outputs": [],
   "source": [
    "serv_names = [\"serv_1\", \"serv_2\", \"serv_3\"]\n",
    "\n",
    "json_data = {\n",
    "    \"n\": 4,\n",
    "    \"hostnames\": serv_names\n",
    "}\n",
    "\n"
   ]
  },
  {
   "cell_type": "code",
   "execution_count": 120,
   "metadata": {},
   "outputs": [
    {
     "data": {
      "text/plain": [
       "'{\"message\":{\"N\":4,\"replicas\":[\"serv_1\",\"serv_2\",\"serv_3\",\"8ebb95\"]},\"status\":\"successful\"}'"
      ]
     },
     "execution_count": 120,
     "metadata": {},
     "output_type": "execute_result"
    }
   ],
   "source": [
    "#  testing /add endpoint\n",
    "response = requests.post(LOAD_BALANCER_URL+\"/add\", json=json_data)\n",
    "response.text"
   ]
  },
  {
   "cell_type": "code",
   "execution_count": 121,
   "metadata": {},
   "outputs": [
    {
     "data": {
      "text/plain": [
       "'{\"message\":{\"N\":4,\"replicas\":[\"serv_1\",\"serv_2\",\"serv_3\",\"8ebb95\"]},\"status\":\"successful\"}'"
      ]
     },
     "execution_count": 121,
     "metadata": {},
     "output_type": "execute_result"
    }
   ],
   "source": [
    "# testing /rep endpoint\n",
    "response = requests.get(LOAD_BALANCER_URL+\"/rep\")\n",
    "response.text"
   ]
  },
  {
   "cell_type": "code",
   "execution_count": 122,
   "metadata": {},
   "outputs": [
    {
     "data": {
      "text/plain": [
       "'{\"message\":{\"N\":2,\"replicas\":[\"serv_3\",\"8ebb95\"]},\"status\":\"successful\"}'"
      ]
     },
     "execution_count": 122,
     "metadata": {},
     "output_type": "execute_result"
    }
   ],
   "source": [
    "# testing /rm endpoint\n",
    "response = requests.delete(LOAD_BALANCER_URL+\"/rm\", json={\n",
    "    \"n\":2,\n",
    "    \"hostnames\":[\"serv_1\"]\n",
    "})\n",
    "response.text"
   ]
  },
  {
   "cell_type": "code",
   "execution_count": 123,
   "metadata": {},
   "outputs": [
    {
     "data": {
      "text/plain": [
       "'{\"message\":{\"N\":2,\"replicas\":[\"serv_3\",\"8ebb95\"]},\"status\":\"successful\"}'"
      ]
     },
     "execution_count": 123,
     "metadata": {},
     "output_type": "execute_result"
    }
   ],
   "source": [
    "# testing /rep endpoint\n",
    "response = requests.get(LOAD_BALANCER_URL+\"/rep\")\n",
    "response.text"
   ]
  },
  {
   "cell_type": "code",
   "execution_count": 126,
   "metadata": {},
   "outputs": [
    {
     "data": {
      "text/plain": [
       "'{\"message\":\"Hello from Server:serv_3\",\"status\":\"successful\"}'"
      ]
     },
     "execution_count": 126,
     "metadata": {},
     "output_type": "execute_result"
    }
   ],
   "source": [
    "# testing /home endpoint\n",
    "response = requests.get(LOAD_BALANCER_URL+\"/home\")\n",
    "response.text"
   ]
  },
  {
   "cell_type": "code",
   "execution_count": 127,
   "metadata": {},
   "outputs": [
    {
     "data": {
      "text/plain": [
       "'\"\"'"
      ]
     },
     "execution_count": 127,
     "metadata": {},
     "output_type": "execute_result"
    }
   ],
   "source": [
    "# testing /heartbeat endpoint\n",
    "response = requests.get(LOAD_BALANCER_URL+\"/heartbeat\")\n",
    "response.text"
   ]
  },
  {
   "cell_type": "code",
   "execution_count": 129,
   "metadata": {},
   "outputs": [
    {
     "data": {
      "text/plain": [
       "'{\"message\":{\"N\":0,\"replicas\":[]},\"status\":\"successful\"}'"
      ]
     },
     "execution_count": 129,
     "metadata": {},
     "output_type": "execute_result"
    }
   ],
   "source": [
    "#  testing /rm endpoint\n",
    "response = requests.delete( LOAD_BALANCER_URL+\"/rm\", json={\"n\":2 , \"hostnames\":[]})\n",
    "response.text"
   ]
  },
  {
   "cell_type": "markdown",
   "metadata": {},
   "source": [
    "Testing server respawn on failure"
   ]
  },
  {
   "cell_type": "code",
   "execution_count": 5,
   "metadata": {},
   "outputs": [],
   "source": [
    "\n",
    "\n",
    "LOAD_BALANCER_URL = \"http://localhost:5000\"\n",
    "REQUEST_COUNT = 10000\n",
    "\n",
    "serv_names = [\"serv_1\", \"serv_2\", \"serv_3\"]\n",
    "\n",
    "json_data = {\n",
    "    \"n\": 3,\n",
    "    \"hostnames\": serv_names\n",
    "}"
   ]
  },
  {
   "cell_type": "code",
   "execution_count": 7,
   "metadata": {},
   "outputs": [
    {
     "data": {
      "text/plain": [
       "'{\"message\":{\"N\":3,\"replicas\":[\"serv_1\",\"serv_2\",\"serv_3\"]},\"status\":\"successful\"}'"
      ]
     },
     "execution_count": 7,
     "metadata": {},
     "output_type": "execute_result"
    }
   ],
   "source": [
    "\n",
    "response =requests.post(LOAD_BALANCER_URL+\"/add\", json=json_data)\n",
    "response.text"
   ]
  },
  {
   "cell_type": "markdown",
   "metadata": {},
   "source": [
    "Now run ```sudo docker rm -f serv_1``` in a terminal"
   ]
  },
  {
   "cell_type": "code",
   "execution_count": 8,
   "metadata": {},
   "outputs": [
    {
     "data": {
      "text/plain": [
       "'{\"message\":{\"N\":3,\"replicas\":[\"serv_2\",\"serv_3\",\"serv_1_new\"]},\"status\":\"successful\"}'"
      ]
     },
     "execution_count": 8,
     "metadata": {},
     "output_type": "execute_result"
    }
   ],
   "source": [
    "response = requests.get(LOAD_BALANCER_URL+\"/rep\")\n",
    "response.text"
   ]
  }
 ],
 "metadata": {
  "kernelspec": {
   "display_name": "Python 3",
   "language": "python",
   "name": "python3"
  },
  "language_info": {
   "codemirror_mode": {
    "name": "ipython",
    "version": 3
   },
   "file_extension": ".py",
   "mimetype": "text/x-python",
   "name": "python",
   "nbconvert_exporter": "python",
   "pygments_lexer": "ipython3",
   "version": "3.12.2"
  }
 },
 "nbformat": 4,
 "nbformat_minor": 2
}
